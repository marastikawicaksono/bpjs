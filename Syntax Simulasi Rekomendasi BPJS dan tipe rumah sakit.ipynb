{
  "nbformat": 4,
  "nbformat_minor": 0,
  "metadata": {
    "colab": {
      "provenance": []
    },
    "kernelspec": {
      "name": "python3",
      "display_name": "Python 3"
    },
    "language_info": {
      "name": "python"
    }
  },
  "cells": [
    {
      "cell_type": "code",
      "execution_count": 1,
      "metadata": {
        "colab": {
          "base_uri": "https://localhost:8080/"
        },
        "id": "-ZzlC7Hm4tbh",
        "outputId": "a0e4ab46-ef65-4cbe-8258-26a78a9a7be3"
      },
      "outputs": [
        {
          "output_type": "stream",
          "name": "stdout",
          "text": [
            "Requirement already satisfied: pandas in /usr/local/lib/python3.10/dist-packages (2.2.2)\n",
            "Requirement already satisfied: openpyxl in /usr/local/lib/python3.10/dist-packages (3.1.5)\n",
            "Requirement already satisfied: numpy>=1.22.4 in /usr/local/lib/python3.10/dist-packages (from pandas) (1.26.4)\n",
            "Requirement already satisfied: python-dateutil>=2.8.2 in /usr/local/lib/python3.10/dist-packages (from pandas) (2.8.2)\n",
            "Requirement already satisfied: pytz>=2020.1 in /usr/local/lib/python3.10/dist-packages (from pandas) (2024.2)\n",
            "Requirement already satisfied: tzdata>=2022.7 in /usr/local/lib/python3.10/dist-packages (from pandas) (2024.2)\n",
            "Requirement already satisfied: et-xmlfile in /usr/local/lib/python3.10/dist-packages (from openpyxl) (1.1.0)\n",
            "Requirement already satisfied: six>=1.5 in /usr/local/lib/python3.10/dist-packages (from python-dateutil>=2.8.2->pandas) (1.16.0)\n"
          ]
        }
      ],
      "source": [
        "pip install pandas openpyxl"
      ]
    },
    {
      "cell_type": "code",
      "source": [
        "import pandas as pd\n",
        "\n",
        "# Definisikan fungsi rekomendasi berdasarkan keluhan penyakit\n",
        "def rekomendasi_kelas_bpjs(system_prompt, qas_id, question_text, orig_answer_texts, answer_lengths):\n",
        "    # Variabel inisiasi untuk menyimpan rekomendasi\n",
        "    kelas_bpjs = ''\n",
        "    rumah_sakit = ''\n",
        "\n",
        "    # Pastikan semua input berupa string dan hindari error jika ada NaN\n",
        "    system_prompt = str(system_prompt).lower() if pd.notna(system_prompt) else ''\n",
        "    question_text = str(question_text).lower() if pd.notna(question_text) else ''\n",
        "    orig_answer_texts = str(orig_answer_texts).lower() if pd.notna(orig_answer_texts) else ''\n",
        "\n",
        "    # Contoh aturan rekomendasi kelas BPJS berdasarkan keluhan penyakit\n",
        "    if any(word in orig_answer_texts for word in ['serangan jantung', 'stroke', 'kanker', 'gagal ginjal']):\n",
        "        kelas_bpjs = 'Kelas 1'  # Penyakit berat atau kronis\n",
        "    elif any(word in orig_answer_texts for word in ['demam', 'flu', 'batuk', 'radang tenggorokan']):\n",
        "        kelas_bpjs = 'Kelas 3'  # Penyakit ringan\n",
        "    else:\n",
        "        kelas_bpjs = 'Kelas 2'  # Penyakit umum lainnya\n",
        "\n",
        "    # Rekomendasi rumah sakit berdasarkan urgensi\n",
        "    if 'urgent' in system_prompt or 'emergency' in question_text:\n",
        "        rumah_sakit = 'Rumah Sakit Tipe A'\n",
        "    elif 'chronic' in system_prompt or 'long-term' in question_text:\n",
        "        rumah_sakit = 'Rumah Sakit Tipe B'\n",
        "    else:\n",
        "        rumah_sakit = 'Rumah Sakit Tipe C'\n",
        "\n",
        "    # Mengembalikan rekomendasi\n",
        "    return {\n",
        "        'Kelas BPJS': kelas_bpjs,\n",
        "        'Rumah Sakit': rumah_sakit\n",
        "    }\n",
        "\n",
        "# Membaca data dari file Excel\n",
        "file_path = '/content/QnA Dataset.xlsx'  # Ganti dengan path file Excel Anda\n",
        "data = pd.read_excel(file_path)\n",
        "\n",
        "# Buat list untuk menyimpan hasil rekomendasi\n",
        "hasil_rekomendasi_list = []\n",
        "\n",
        "# Iterasi melalui setiap baris data\n",
        "for index, row in data.iterrows():\n",
        "    system_prompt = row['system_prompt']\n",
        "    qas_id = row['qas_id']\n",
        "    question_text = row['question_text']\n",
        "    orig_answer_texts = row['orig_answer_texts']\n",
        "    answer_lengths = row['answer_lengths']\n",
        "\n",
        "    # Panggil fungsi rekomendasi untuk setiap baris data\n",
        "    hasil_rekomendasi = rekomendasi_kelas_bpjs(system_prompt, qas_id, question_text, orig_answer_texts, answer_lengths)\n",
        "\n",
        "    # Simpan hasil rekomendasi ke list\n",
        "    hasil_rekomendasi_list.append({\n",
        "        'qas_id': qas_id,\n",
        "        'Kelas BPJS': hasil_rekomendasi['Kelas BPJS'],\n",
        "        'Rumah Sakit': hasil_rekomendasi['Rumah Sakit']\n",
        "    })\n",
        "\n",
        "# Konversi hasil rekomendasi ke DataFrame\n",
        "hasil_rekomendasi_df = pd.DataFrame(hasil_rekomendasi_list)\n",
        "\n",
        "# Tampilkan hasil rekomendasi\n",
        "print(hasil_rekomendasi_df)\n",
        "\n",
        "# Jika ingin menyimpan hasil rekomendasi ke file Excel baru\n",
        "output_file = 'hasil_rekomendasi_bpjs.xlsx'\n",
        "hasil_rekomendasi_df.to_excel(output_file, index=False)\n",
        "\n",
        "print(f\"Hasil rekomendasi telah disimpan ke file: {output_file}\")\n"
      ],
      "metadata": {
        "colab": {
          "base_uri": "https://localhost:8080/"
        },
        "id": "zo0xBA9-68V0",
        "outputId": "3324cc42-1c0c-4634-bfab-0cdfe372d11c"
      },
      "execution_count": 3,
      "outputs": [
        {
          "output_type": "stream",
          "name": "stdout",
          "text": [
            "       qas_id Kelas BPJS         Rumah Sakit\n",
            "0      LLFET2    Kelas 2  Rumah Sakit Tipe C\n",
            "1      GEP3B0    Kelas 2  Rumah Sakit Tipe C\n",
            "2      WQ1TOG    Kelas 2  Rumah Sakit Tipe C\n",
            "3      PDRRV4    Kelas 2  Rumah Sakit Tipe C\n",
            "4      F09KSX    Kelas 2  Rumah Sakit Tipe C\n",
            "...       ...        ...                 ...\n",
            "46051  4UK12V    Kelas 2  Rumah Sakit Tipe C\n",
            "46052  YWFHHN    Kelas 2  Rumah Sakit Tipe C\n",
            "46053  92B0J8    Kelas 2  Rumah Sakit Tipe C\n",
            "46054  Q9C0M9    Kelas 2  Rumah Sakit Tipe C\n",
            "46055  2XTVKR    Kelas 2  Rumah Sakit Tipe C\n",
            "\n",
            "[46056 rows x 3 columns]\n",
            "Hasil rekomendasi telah disimpan ke file: hasil_rekomendasi_bpjs.xlsx\n"
          ]
        }
      ]
    }
  ]
}